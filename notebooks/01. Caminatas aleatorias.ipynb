{
 "cells": [
  {
   "cell_type": "markdown",
   "metadata": {},
   "source": [
    "# Caminatas aleatorias"
   ]
  },
  {
   "cell_type": "markdown",
   "metadata": {},
   "source": [
    "En este notebook, empezaremos a explorar Julia, al aplicarlo para modelar una **caminata aleatoria**, que es básicamente un **movimiento Browniano** -- un movimiento aleatorio de una partícula moviéndose en un fluido.\n",
    "\n",
    "Llevaremos a cabo una primera simulación computacional de este sistema. Para hacerlo, veremos por encima algunos conceptos de programación en Julia. Luego profundizaremos en esos conceptos, pero el punto de este notebook es llegar lo más rápido posible a poder hacer algo interesante, y así mostrar el poder del lenguaje."
   ]
  },
  {
   "cell_type": "markdown",
   "metadata": {},
   "source": [
    "## Modelaje\n",
    "\n",
    "Para hacer un modelo matemático / computacional de un sistema físico, siempre es necesario hacer unas simplificaciones.\n",
    "Para empezar a modelar una partícula en un fluido, haremos unas simplificaciones bastante drásticas:\n",
    "\n",
    "- En lugar de modelar el fluido, modelaremos el fluido a través de impactos **aleatorios** sobre la partícula. \n",
    "\n",
    "\n",
    "- Supondremos (aunque no es nada realista) que los impactos causen que la partícula dé brincos en el espacio.\n",
    "\n",
    "\n",
    "- Supondremos que los impactos occurran en tiempos espaciados de forma regular, así que podemos hablar de pasitos de tiempo.\n",
    "\n",
    "\n",
    "- Supondremos que la partícula brinque la misma distancia en cada pasito, y que vive en una red.\n",
    "\n",
    "Por supuesto, todas estas restricciones se pueden quitar después."
   ]
  },
  {
   "cell_type": "markdown",
   "metadata": {},
   "source": [
    "## Caminata aleatoria"
   ]
  },
  {
   "cell_type": "markdown",
   "metadata": {},
   "source": [
    "Pensemos, entonces, en una partícula con posición $x \\in \\mathbb{Z}$. En el tiempo $0$, empieza en la posición $x = 0$."
   ]
  },
  {
   "cell_type": "markdown",
   "metadata": {},
   "source": [
    "#### Ejercicio 1\n",
    "\n",
    "(i) Define una variable `x` que valga 0. \n",
    "\n",
    "(ii) Checa que `x` realmente valga, al poner `x` únicamente. Nota que Julia siempre devuelve el valor de la última expresión que se calculó.\n",
    "\n",
    "(iii) Utiliza la función `typeof` para ver el tipo de `x`. [Pista: Utiliza paréntesis, `(` y `)`, para llamar a la función.]"
   ]
  },
  {
   "cell_type": "markdown",
   "metadata": {},
   "source": []
  },
  {
   "cell_type": "markdown",
   "metadata": {},
   "source": [
    "### Números aleatorios"
   ]
  },
  {
   "cell_type": "markdown",
   "metadata": {},
   "source": [
    "Julia tiene una función `rand` para generar cosas aleatorias (\"*rand*om\", en inglés).\n",
    "Esta función tiene distintas variantes para generar distintos tipos de objetos aleatorios."
   ]
  },
  {
   "cell_type": "markdown",
   "metadata": {},
   "source": [
    "#### Ejercicio 2\n",
    "(i) ¿Qué pasa si simplemente pones la función `rand`, sin paréntesis?\n",
    "\n",
    "(ii) Ahora utiliza paréntesis para ejecutar la función. Hazlo varias veces para adivinar qué es lo que está produciendo.\n",
    "\n",
    "(iii) Ahora pon `rand(Bool)` varias veces. ¿Qué es lo que genera? Nota que `Bool` quiere decir una variable *Bool*eana."
   ]
  },
  {
   "cell_type": "code",
   "execution_count": null,
   "metadata": {},
   "outputs": [],
   "source": []
  },
  {
   "cell_type": "markdown",
   "metadata": {},
   "source": [
    "## Programando una caminata aleatoria"
   ]
  },
  {
   "cell_type": "markdown",
   "metadata": {},
   "source": [
    "¿Qué necesitaremos para *programar* una caminata aleatoria en la computadora?\n",
    "\n",
    "Ya hemos visto como generar un `Bool` aleatorio. Pero necesitamos más bien un *brinco* aleatorio:"
   ]
  },
  {
   "cell_type": "markdown",
   "metadata": {},
   "source": [
    "### Ejercicio 3\n",
    "\n",
    "(i) Define una variable `r` que es igual al resultado de `rand(Bool)`. Conviértelo a un número entero `s`, usando la función `Int`. (Entero en inglés es \"*int*eger\".) [Nota que en Julia, sí importa si los nombres se escriben con mayúsculas o minúsculas.]\n",
    "\n",
    "(ii) Para una caminata aleatoria, necesitamos brincos de tamaño $1$ o $-1$. Cómo puedes utilizar aritmética para generar un brinco $\\Delta$ a partir de `s`? [Nota que en Julia, puedes escribir $\\Delta$ como `\\Delta<TAB>`, donde `<TAB>` indica la tecla \"tabulador\".]"
   ]
  },
  {
   "cell_type": "code",
   "execution_count": null,
   "metadata": {},
   "outputs": [],
   "source": []
  },
  {
   "cell_type": "markdown",
   "metadata": {},
   "source": [
    "### Iteración (repetición)"
   ]
  },
  {
   "cell_type": "markdown",
   "metadata": {},
   "source": [
    "Ahora sabemos cómo generar un brinco. Pero necesitaremos varios brincos, uno tras otro; es decir, necesitamos una manera de *repetir* un comando una y otra vez, es decir, necesitamos saber cómo utilizar la **iteración**, a través de un **bucle** (o ciclo, loop).\n",
    "\n",
    "Una manera de hacer esto es con un bucle `for`, el cual se utiliza para iterar sobre un conjunto conocido de valores. La sintaxis se ve así:"
   ]
  },
  {
   "cell_type": "code",
   "execution_count": null,
   "metadata": {},
   "outputs": [],
   "source": [
    "for i in 1:10\n",
    "    @show i\n",
    "    @show i^2\n",
    "end"
   ]
  },
  {
   "cell_type": "markdown",
   "metadata": {},
   "source": [
    "#### Ejercicio 4\n",
    "\n",
    "(i) Ejecuta este código. ¿Qué hace? \n",
    "\n",
    "(ii) Existe la variable `i` afuera del bucle?\n",
    "\n",
    "(iii) Modifica el código para que defina una variable `a` que es dos veces `i`, e imprime sólo el valor de `a` en cada vuelta. Hazlo para valores de `i` que son los números pares de 2 hasta 20. [Pista: Agrega otro número al rango `1:10` con otro `:`.]"
   ]
  },
  {
   "cell_type": "code",
   "execution_count": null,
   "metadata": {},
   "outputs": [],
   "source": []
  },
  {
   "cell_type": "markdown",
   "metadata": {},
   "source": [
    "#### Ejercicio 5"
   ]
  },
  {
   "cell_type": "markdown",
   "metadata": {},
   "source": [
    "Supón que ahora querramos calcular la suma de los números de 1 a 10. Tendremos que tener un lugar, digamos una variable llamada `suma`, en donde guardar el resultado. \n",
    "\n",
    "(i) ¿Cuál es el valor inicial de `suma`? ¿Dónde hay que colocar esta inicialización?\n",
    "\n",
    "(ii) ¿Cómo se actualiza `suma` en cada vuelta del bucle?\n",
    "\n",
    "(iii) Muestra el valor final de `suma` y compáralo con el valor analítico exacto de la suma."
   ]
  },
  {
   "cell_type": "code",
   "execution_count": null,
   "metadata": {},
   "outputs": [],
   "source": []
  },
  {
   "cell_type": "markdown",
   "metadata": {},
   "source": [
    "### Funciones"
   ]
  },
  {
   "cell_type": "markdown",
   "metadata": {},
   "source": [
    "Supón que querramos repetir el cálculo anterior para sumar los enteros de 1 a $n$, para varios valores distintos de $n$. Tendríamos que copiar y pegar el código. Esto lleva a la posibilidad de errores que introduzcamos. Además, si modificamos el código en un lugar, tendríamos que modificarlo en todas las copias. Esto nos lleva a la regla\n",
    "\n",
    "> *Nunca* copies y pegues para repetir código.\n",
    "\n",
    "¿Qué hacemos entonces? Escribimos una **`función`**, es decir, un subprograma que ejecuta una tarea dada. Una función puede tomar argumentos, por ejemplo `n`, y regresar resultados.\n",
    "\n",
    "La sintaxis extendida para escribir una función en Julia es"
   ]
  },
  {
   "cell_type": "code",
   "execution_count": null,
   "metadata": {},
   "outputs": [],
   "source": [
    "function f(xx)\n",
    "    xx = xx + 1  # Pon operaciones aquí\n",
    "    return xx  \n",
    "end"
   ]
  },
  {
   "cell_type": "markdown",
   "metadata": {},
   "source": [
    "Aquí:\n",
    "- `xx` es el argumento que la función acepta. \n",
    "- `#` denota que el resto de la línea es un comentario, el cual no se procesará por Julia. \n",
    "- La palabra clave `return` indica qué información se regresa desde la función."
   ]
  },
  {
   "cell_type": "markdown",
   "metadata": {},
   "source": [
    "#### Ejercicio 6\n",
    "\n",
    "(i) ¿Qué ocurre cuando corres el código? ¿Se ejecutó la función?\n",
    "\n",
    "(ii) Ejecuta la función, pasándole el valor 10. ¿Qué dice Julia?\n",
    "\n",
    "(iii) ¿Existe la variable `xx` afuera de la función?\n",
    "\n",
    "(iii) Capta lo que regresa en la variable `yy`."
   ]
  },
  {
   "cell_type": "code",
   "execution_count": null,
   "metadata": {},
   "outputs": [],
   "source": []
  },
  {
   "cell_type": "markdown",
   "metadata": {},
   "source": [
    "#### Ejercicio 7\n",
    "\n",
    "(i) Escribe una función `sumar` que toma la variable `n` y suma los números de 1 a $n$.\n",
    "Checa que funcione correctamente, al comparar la suma de los números de 1 a 1000 con el resultado exacto.\n",
    "\n",
    "(ii) Escribe una función `fact` que calcule el factorial del número $n$.\n",
    "Checa que funcione correctamente, al comparar algunos resultados con algo escrito a mano.\n",
    "\n",
    "(iii) ¿Hasta cuál valor de $n$ funciona la función `fact` correctamente? ¿Qué crees que esté pasando más allá de ese valor? ¿Cómo se podría arreglar el problema?"
   ]
  },
  {
   "cell_type": "code",
   "execution_count": null,
   "metadata": {},
   "outputs": [],
   "source": []
  },
  {
   "cell_type": "markdown",
   "metadata": {},
   "source": [
    "#### Ejercicio 8\n",
    "\n",
    "Ya podemos poner todo esto junto para hacer nuestra primera simulación: ¡simulemos una caminata aleatoria!\n",
    "\n",
    "(i) Define una función `caminata` que tome un argumento `n` y simule una caminata aleatoria de `n` pasos. Escribe la posición en cada paso en la pantalla."
   ]
  },
  {
   "cell_type": "code",
   "execution_count": null,
   "metadata": {},
   "outputs": [],
   "source": []
  },
  {
   "cell_type": "markdown",
   "metadata": {},
   "source": [
    "### Vectores"
   ]
  },
  {
   "cell_type": "markdown",
   "metadata": {},
   "source": [
    "¡Acabamos de llevar a cabo una simulación en la computadora! Podemos ver los datos que se generaron, es decir, las posiciones de la caminata después de cada paso. Pero ahora supón que querramos visualizar estos datos, o guardarlos en un archivo. ¿Dónde están?\n",
    "\n",
    "Resulta que sólo están en la pantalla. No están guardados en ningún lado, ya que ¡no le dijimos a la computadora que guardara los datos!\n",
    "\n",
    "Ya hemos visto que podemos guardar datos en una variable. Pero ahora podríamos tener muchas variables, es decir, la posición en cada uno de $n$ pasos. No queremos crear de forma individual tantas variables, ni encontrar nombres para ellas.\n",
    "\n",
    "La solución es crear un bloque de variables con un solo nombre y un índice, es decir un **vector** (o arreglo uni-dimensional)."
   ]
  },
  {
   "cell_type": "markdown",
   "metadata": {},
   "source": [
    "#### Ejercicio 9\n",
    "\n",
    "(i) Crea una variable `x` con el valor `0`.\n",
    "\n",
    "(ii) Crea un arreglo `posiciones` con la sintaxis `posiciones = [x]`. Los corchetes (`[`, `]`) indican que el arreglo contendrá el valor de `x`.\n",
    "\n",
    "(iii) Checa de qué tipo es `posiciones` con la función `typeof`. ¿Qué observas?\n",
    "\n",
    "(iv) Agrega un valor al arreglo con la función `push!`. Verifica que se agregó correctamente.\n",
    "\n",
    "(v) Escribe un bucle para agregar todos los números de 1 a 10, uno por uno, a `posiciones`."
   ]
  },
  {
   "cell_type": "code",
   "execution_count": null,
   "metadata": {},
   "outputs": [],
   "source": []
  },
  {
   "cell_type": "markdown",
   "metadata": {},
   "source": [
    "#### Ejercicio 10\n",
    "\n",
    "(i) Modifica tu función `caminata` para guardar todas las posiciones a un vector. Regresa este vector de la función.\n",
    "\n",
    "(ii) Llama a la función para crear una caminata con 10 pasos en la variable `camino1`.\n",
    "\n",
    "(iii) Crea una variable `camino2` con una caminata de 100 pasos. Para averiguar cuánto tiempo se tardó en hacerlo, pon `@time` justo antes de la llamada a la función."
   ]
  },
  {
   "cell_type": "code",
   "execution_count": null,
   "metadata": {},
   "outputs": [],
   "source": []
  },
  {
   "cell_type": "markdown",
   "metadata": {},
   "source": [
    "### Guardar los datos"
   ]
  },
  {
   "cell_type": "markdown",
   "metadata": {},
   "source": [
    "#### Ejercicio 11\n",
    "\n",
    "(i) Guarda los datos que se generaron con `writedlm(\"archivo.dat\", v)`, donde el primer argumento es el archivo nuevo que escribir, y `v` es la variable que escribir. [En Julia 0.7 y 1.0, hay que poner `using DelimitedFiles` primero.]\n",
    "\n",
    "(ii) Verifica (no con Julia) que se generó correctamente el archivo en tu sistema operativo.\n",
    "\n",
    "(iii) Utiliza `readdlm` para leer el archivo y guardar el resultado en una variable llamada `nuevo`."
   ]
  },
  {
   "cell_type": "code",
   "execution_count": null,
   "metadata": {},
   "outputs": [],
   "source": []
  },
  {
   "cell_type": "markdown",
   "metadata": {},
   "source": [
    "### Visualización"
   ]
  },
  {
   "cell_type": "markdown",
   "metadata": {},
   "source": [
    "Los humanos somos seres visuales, por lo cual la mejor manera de entender un conjunto de datos es la visualización. \n",
    "\n",
    "Julia tiene unas buenas herramientas para la visualización. Ocuparemos el paquete `Plots.jl`. Primero hay que cargar el paquete:"
   ]
  },
  {
   "cell_type": "code",
   "execution_count": 6,
   "metadata": {},
   "outputs": [],
   "source": [
    "using Plots"
   ]
  },
  {
   "cell_type": "markdown",
   "metadata": {},
   "source": [
    "Si no está instalado, Julia reportará ese hecho, y entonces se tiene que instalar (una sola vez) con"
   ]
  },
  {
   "cell_type": "code",
   "execution_count": null,
   "metadata": {},
   "outputs": [],
   "source": [
    "Pkg.add(\"Plots\")   "
   ]
  },
  {
   "cell_type": "markdown",
   "metadata": {},
   "source": [
    "#### Ejercicio 12\n",
    "\n",
    "(i) Crea un camino `camino1` con 10 pasos. \n",
    "\n",
    "(ii) Dibújalo con la función `plot`. ¿Qué utilizó para \n",
    "\n",
    "(iii) Pon también puntos utilizando el \"argumento de palabra clave\" `m='o'` adentro del comando de `plot`.\n",
    "\n",
    "(iv) Dibujar únicamente los puntos al utilizar `scatter` en lugar de `plot`.\n",
    "\n",
    "(v) Crea y dibuja 5 caminos en la misma gráfica, utilizando `plot!` (con `!` al final) para agregar elementos a un dibujo pre-existente."
   ]
  },
  {
   "cell_type": "code",
   "execution_count": null,
   "metadata": {},
   "outputs": [],
   "source": []
  },
  {
   "cell_type": "markdown",
   "metadata": {},
   "source": [
    "#### Ejercicio 13\n",
    "\n",
    "Ahora podemos empezar a ver cosas interesantes.\n",
    "\n",
    "(i) Utiliza un bucle `for` para dibujar 100 caminos con 100 pasos cada uno. Para hacerlo, primero crea un `plot` vacío con el nombre `p` y sin leyenda (`leg=false`). Luego dibuja los caminantes. Al final, muestra el objeto `p`.\n",
    "\n",
    "(ii) ¿Qué observas? ¿Cómo parece crecer la nube de caminantes en el tiempo? ¿Cómo podrías pensar en averiguar eso numéricamente? **Opcional: ¡Hazlo!\n",
    "\n",
    "(iii) En la gráfica, los caminos se sobreponen, así que no se puede ver cuántos caminantes pasaron por un punto dado en cada paso. En un paso dado, ¿qué harías para ver esto? **Opcional: ¡Hazlo!"
   ]
  },
  {
   "cell_type": "code",
   "execution_count": null,
   "metadata": {},
   "outputs": [],
   "source": []
  }
 ],
 "metadata": {
  "kernelspec": {
   "display_name": "Julia 0.6.4",
   "language": "julia",
   "name": "julia-0.6"
  },
  "language_info": {
   "file_extension": ".jl",
   "mimetype": "application/julia",
   "name": "julia",
   "version": "0.6.4"
  }
 },
 "nbformat": 4,
 "nbformat_minor": 1
}
