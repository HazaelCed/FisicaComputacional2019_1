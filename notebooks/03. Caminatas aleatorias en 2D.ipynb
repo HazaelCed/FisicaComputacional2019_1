{
 "cells": [
  {
   "cell_type": "markdown",
   "metadata": {},
   "source": [
    "# Caminatas aleatorias en más dimensiones"
   ]
  },
  {
   "cell_type": "markdown",
   "metadata": {},
   "source": [
    "Es interesante extender el modelo de caminatas aleatorias a 2 y 3 dimensiones, lo cual es físicamente más realista."
   ]
  },
  {
   "cell_type": "markdown",
   "metadata": {},
   "source": [
    "#### Ejercicio 1"
   ]
  },
  {
   "cell_type": "markdown",
   "metadata": {},
   "source": [
    "(i) Define una caminata aleatoria en 2D, con coordenadas $x$ y $y$, que vive en $\\mathbb{Z}^2$.\n",
    "\n",
    "(ii) Escribe una función que hace un paso del caminante. Puede moverse sólo arriba, abajo, a la izquierda o a la derecha en cada paso, con probabilidades iguales.\n",
    "\n",
    "(iii) Escribe una simulación de $N$ caminantes en 2D, siguiendo las mismas ideas que en el notebook anterior."
   ]
  },
  {
   "cell_type": "markdown",
   "metadata": {},
   "source": [
    "#### Ejercicio 2\n",
    "\n",
    "(i) Haz una visualización de las posiciones de los caminantes en distintos momentos del tiempo en una sola gráfica, e.g. usando `scatter`.\n",
    "\n",
    "(ii) Utiliza `IJulia.clear_output()` para hacer una animación del proceso."
   ]
  },
  {
   "cell_type": "markdown",
   "metadata": {},
   "source": [
    "#### Ejercicio 3\n",
    "\n",
    "(i) Calcula el promedio y la varianza como función del tiempo y grafícalos."
   ]
  },
  {
   "cell_type": "markdown",
   "metadata": {},
   "source": [
    "#### Ejercicio 4\n",
    "\n",
    "(i) Ahora considera caminantes en 3D. Haz la simulación y la visualización de una nube de caminantes."
   ]
  },
  {
   "cell_type": "markdown",
   "metadata": {},
   "source": [
    "## Caminatas en el espacio"
   ]
  },
  {
   "cell_type": "markdown",
   "metadata": {},
   "source": [
    "Hasta ahora, las caminatas han vivido sobre los enteros únicamente. Pero eso no es necesario; pueden vivir en el espacio real."
   ]
  },
  {
   "cell_type": "markdown",
   "metadata": {},
   "source": [
    "#### Ejercicio 5"
   ]
  },
  {
   "cell_type": "markdown",
   "metadata": {},
   "source": [
    "(i) Escribe una función `uniforme` que utilice `rand` para generar un número aleatorio distribuido simétricamente alrededor de cero.\n",
    "\n",
    "(ii) Verifica con un histograma que tu generador realmente cumpla con esta propiedad.\n",
    "\n",
    "(iii) Utiliza `uniforme` para hacer una simulación de un caminante aleatorio en el espacio 2D que cambia su posición tanto en $x$ como en $y$ en cada paso.\n",
    "\n",
    "(iv) Haz unas vizualizaciones y calcula dibuja el promedio y la varianza como función del tiempo."
   ]
  },
  {
   "cell_type": "markdown",
   "metadata": {},
   "source": [
    "#### Ejercicio 6"
   ]
  },
  {
   "cell_type": "markdown",
   "metadata": {},
   "source": [
    "(i) Repite lo mismo en 3D."
   ]
  }
 ],
 "metadata": {
  "kernelspec": {
   "display_name": "Julia 0.6.4",
   "language": "julia",
   "name": "julia-0.6"
  },
  "language_info": {
   "file_extension": ".jl",
   "mimetype": "application/julia",
   "name": "julia",
   "version": "0.6.4"
  }
 },
 "nbformat": 4,
 "nbformat_minor": 2
}
