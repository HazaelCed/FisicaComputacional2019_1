{
 "cells": [
  {
   "cell_type": "markdown",
   "metadata": {},
   "source": [
    "# Análisis de caminatas aleatorias"
   ]
  },
  {
   "cell_type": "markdown",
   "metadata": {},
   "source": [
    "Una tarea fundamental en la física es el análisis de datos. \n",
    "A menudo, un experimento produce una cierta cantidad de datos correspondientes a la medición de ciertas cantidades. Se repite una medición varias veces para asegurar que sea reproducible, y luego se llevan a cabo análisis de estos datos.\n",
    "\n",
    "Podemos llevar a cabo el mismo proceso con los datos provenientes de un **experimento numérico**, o sea, una simulación.\n",
    "\n",
    "Retomemos nuestra simulación de caminatas aleatorias del notebook 1 y recordemos algo de estadística para poder caracterizar a las caminatas (y para finalmente entender la estadística...)."
   ]
  },
  {
   "cell_type": "markdown",
   "metadata": {},
   "source": [
    "## Datos"
   ]
  },
  {
   "cell_type": "markdown",
   "metadata": {},
   "source": [
    "Pensemos en una caminata aleatoria como el experimento. Al repetir varias veces la caminata, saldrán datos diferentes. ¿Cómo podemos caracterizar estos datos?"
   ]
  },
  {
   "cell_type": "markdown",
   "metadata": {},
   "source": [
    "#### Ejercicio 1"
   ]
  },
  {
   "cell_type": "markdown",
   "metadata": {},
   "source": [
    "(i) Escribe una función `caminatas` para simular la dinámica de $N$ caminatas aleatorias para un tiempo total $T$. Sigue los pasos siguientes.\n",
    "\n",
    "1. Crea un vector llamado `xs` de enteros ceros de longitud $N$ con la función `zeros`. [Pista: Utiliza `?zeros` para ver la documentación de la función.]\n",
    "\n",
    "\n",
    "2. Haz una función `paso!` que acepte como argumentos `xs` e `i` y lleva a cabo un paso del caminante número $i$. [Puedes acceder a la entrada número `i` del vector `xs` con `xs[i]`.]\n",
    "\n",
    "\n",
    "3. Haz una función `paso!` (mismo nombre) que acepte sólo el argumento `xs` y lleva a cabo un paso de todos los caminantes.\n",
    "[Pista: La función `length` nos dice cuántos elementos contiene un `Vector`.]\n",
    "\n",
    "\n",
    "4. Haz la función `caminatas`. Guarda el vector de `xs` en cada paso en un vector nuevo `posiciones`. Tendrás que utilizar la función `copy` para copiar `xs`. (¿Qué ocurre si no lo haces?)\n",
    "La función regresa todos los datos.\n",
    "\n",
    "\n",
    "(ii) Simula 1000 caminantes para un tiempo 100 y capta la salida de la función en una variable `posiciones`."
   ]
  },
  {
   "cell_type": "markdown",
   "metadata": {},
   "source": [
    "## Promedios"
   ]
  },
  {
   "cell_type": "markdown",
   "metadata": {},
   "source": [
    "La primera cosa que se nos debe ocurrir es sacar el **promedio** de los datos. Podemos pensar en calcular el promedio en cada tiempo."
   ]
  },
  {
   "cell_type": "markdown",
   "metadata": {},
   "source": [
    "#### Ejercicio 2"
   ]
  },
  {
   "cell_type": "markdown",
   "metadata": {},
   "source": [
    "(i) Si simulas $N$ caminatas aleatorias $x_i(t)$, con $i=1, \\ldots, N$, para un tiempo total (número de pasos) $T$, ¿cómo esperas salga el promedio de todos los $x_i(t)$ con un tiempo $t$ fijo?\n",
    "\n",
    "(ii) Escribe una función `promedio` que calcule el promedio de un vector. Acepta el vector `v` como argumento y regresa el promedio.\n",
    "\n",
    "(iii) Escribe una función `promedios` que calcula los promedios de $x_i(t)$ para cada $t$. \n",
    "\n",
    "(iv) Calcula los promedios de 1000 caminantes por un tiempo 100. \n",
    "\n",
    "(v) Dibuja el promedio como función del tiempo. ¿Es lo que esperabas?"
   ]
  },
  {
   "cell_type": "markdown",
   "metadata": {},
   "source": [
    "## Estadística "
   ]
  },
  {
   "cell_type": "markdown",
   "metadata": {},
   "source": [
    "Ya hemos recordado la primera cantidad estadística fundamental, el promedio, y vimos que no nos dio información tan valiosa. ¿Cuál es la siguiente cantidad importante?"
   ]
  },
  {
   "cell_type": "markdown",
   "metadata": {},
   "source": [
    "#### Ejercicio 3\n",
    "\n",
    "(i) Escribe una función `varianza` que calcule la varianza de un vector `v`.\n",
    "\n",
    "(ii) Escribe una función que calcule las varianzas de las $x_i(t)$ para una $t$ dada.\n",
    "\n",
    "(iii) Dibuja la varianza como función del tiempo. Repite el cálculo varias veces y dibuja las distintas curvas en una sola gráfica. ¿Qué observas? ¿Cómo crece la varianza?\n",
    "\n",
    "(iv) Haz lo mismo para la desviación estándar."
   ]
  },
  {
   "cell_type": "markdown",
   "metadata": {},
   "source": [
    "### Densidad de probabilidad"
   ]
  },
  {
   "cell_type": "markdown",
   "metadata": {},
   "source": [
    "El promedio y la varianza son medidas burdas que caracterizan a una colección de datos. Una medida más refinada es la **distribución de probabilidad**. Una forma de caracterizarla es a través de un **histograma**, que nos proporciona la **densidad de probabilidad** o densidad de masa."
   ]
  },
  {
   "cell_type": "markdown",
   "metadata": {},
   "source": [
    "#### Ejercicio 4"
   ]
  },
  {
   "cell_type": "markdown",
   "metadata": {},
   "source": [
    "(i) ¿Qué es lo que mide un histograma?\n",
    "\n",
    "(ii) `Plots.jl` contiene una función `histograma`. Busca documentación y/o ejemplos del uso de esta función para dibujar, en una sola gráfica, algunos histogramas normalizados correspondientes a algunos tiempos $t$."
   ]
  },
  {
   "cell_type": "markdown",
   "metadata": {},
   "source": [
    "## Caminatas con sesgo"
   ]
  },
  {
   "cell_type": "markdown",
   "metadata": {},
   "source": [
    "Las caminatas hasta ahora han brincado con la misma probabilidad a la izquierda y a la derecha. Ahora vamos a relajar esta restricción."
   ]
  },
  {
   "cell_type": "markdown",
   "metadata": {},
   "source": [
    "#### Ejercicio 5\n",
    "\n",
    "(i) Simula $N = 1000$ números aleatorios entre $0$ y $1$ con la función `rand`.\n",
    "\n",
    "(ii) Calcula la fracción de los números que salgan menores que 0.1, menores que 0.2, menores que 0.3, etc, es decir, la **probabilidad** de que salgan menores que 0.1 etc. ¿Qué observas?\n",
    "\n",
    "(iii) Así, escribe una función `mi_rand` que acepte un valor $0 \\le p \\le 1$ y genere `true` con probabilidad $p$, y `false` con probabilidad $1-p$. Para hacerlo, podrás hacer uso de un **condicional**, con la sintaxis esquemática\n",
    "\n",
    "    if *condición*\n",
    "        *haz algo*\n",
    "    else\n",
    "        *haz otra cosa*\n",
    "    end\n",
    "    "
   ]
  },
  {
   "cell_type": "markdown",
   "metadata": {},
   "source": [
    "#### Ejercicio 6"
   ]
  },
  {
   "cell_type": "markdown",
   "metadata": {},
   "source": [
    "(i) Dibuja una nube de trayectorias para distintos valores de $p$. Cada nube debe ir en una sola gráfica; las nubes con distintos valores de $p$ van en gráficas por separado.\n",
    "\n",
    "Para hacerlo, haz un bucle sobre valores de $p$.\n",
    "\n",
    "¿Qué observas?\n",
    "\n",
    "(ii) Repite las preguntas 2, 3 y 4 para caminantes que brincan con probabilidad $p$ a la izquierda y $q = 1-p$ a la derecha. ¿Qué observas?"
   ]
  }
 ],
 "metadata": {
  "kernelspec": {
   "display_name": "Julia 0.6.2",
   "language": "julia",
   "name": "julia-0.6"
  },
  "language_info": {
   "file_extension": ".jl",
   "mimetype": "application/julia",
   "name": "julia",
   "version": "0.6.2"
  }
 },
 "nbformat": 4,
 "nbformat_minor": 2
}
